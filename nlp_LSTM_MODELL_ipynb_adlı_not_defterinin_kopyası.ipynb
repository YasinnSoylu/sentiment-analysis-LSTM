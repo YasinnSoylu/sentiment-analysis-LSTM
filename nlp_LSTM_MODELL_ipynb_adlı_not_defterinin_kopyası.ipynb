{
  "nbformat": 4,
  "nbformat_minor": 0,
  "metadata": {
    "colab": {
      "name": "nlp LSTM MODELL.ipynb adlı not defterinin kopyası",
      "provenance": [],
      "authorship_tag": "ABX9TyMtgOB920Unw5lHmcrr4x4Y",
      "include_colab_link": true
    },
    "kernelspec": {
      "name": "python3",
      "display_name": "Python 3"
    },
    "language_info": {
      "name": "python"
    }
  },
  "cells": [
    {
      "cell_type": "markdown",
      "metadata": {
        "id": "view-in-github",
        "colab_type": "text"
      },
      "source": [
        "<a href=\"https://colab.research.google.com/github/yasinsoylu1997/lstm-nlp/blob/main/nlp_LSTM_MODELL_ipynb_adl%C4%B1_not_defterinin_kopyas%C4%B1.ipynb\" target=\"_parent\"><img src=\"https://colab.research.google.com/assets/colab-badge.svg\" alt=\"Open In Colab\"/></a>"
      ]
    },
    {
      "cell_type": "code",
      "metadata": {
        "id": "OeMVO--bImWy"
      },
      "source": [
        "import numpy as np\n",
        "import pandas as pd\n",
        "import matplotlib.pyplot as plt\n",
        "import tensorflow as tf\n",
        "from sklearn.metrics import confusion_matrix, classification_report, accuracy_score\n",
        "from nltk.corpus import stopwords\n",
        "from nltk.tokenize import word_tokenize\n",
        "from tensorflow.python.keras.models import Sequential\n",
        "from tensorflow.python.keras.layers import Dense, GRU, Embedding, CuDNNGRU\n",
        "from tensorflow.python.keras.preprocessing.text import Tokenizer\n",
        "from tensorflow.keras.optimizers import Adam\n",
        "import re\n",
        "from sklearn.model_selection import train_test_split \n",
        "from wordcloud import WordCloud, STOPWORDS, ImageColorGenerator\n",
        "import nltk\n",
        "\n",
        "from tensorflow.python.keras.preprocessing.sequence import pad_sequences"
      ],
      "execution_count": null,
      "outputs": []
    },
    {
      "cell_type": "code",
      "metadata": {
        "id": "wcw_gfCkhAqh"
      },
      "source": [
        "dataset = pd.read_csv('out.csv')"
      ],
      "execution_count": null,
      "outputs": []
    },
    {
      "cell_type": "code",
      "metadata": {
        "colab": {
          "base_uri": "https://localhost:8080/",
          "height": 424
        },
        "id": "msyl4KVeLRhl",
        "outputId": "8cf72ff7-4245-4314-c0cf-a273c488ef5f"
      },
      "source": [
        "dataset"
      ],
      "execution_count": null,
      "outputs": [
        {
          "output_type": "execute_result",
          "data": {
            "text/html": [
              "<div>\n",
              "<style scoped>\n",
              "    .dataframe tbody tr th:only-of-type {\n",
              "        vertical-align: middle;\n",
              "    }\n",
              "\n",
              "    .dataframe tbody tr th {\n",
              "        vertical-align: top;\n",
              "    }\n",
              "\n",
              "    .dataframe thead th {\n",
              "        text-align: right;\n",
              "    }\n",
              "</style>\n",
              "<table border=\"1\" class=\"dataframe\">\n",
              "  <thead>\n",
              "    <tr style=\"text-align: right;\">\n",
              "      <th></th>\n",
              "      <th>yildizSayisi</th>\n",
              "      <th>yorum</th>\n",
              "      <th>yorumLike</th>\n",
              "      <th>yorumDislike</th>\n",
              "    </tr>\n",
              "  </thead>\n",
              "  <tbody>\n",
              "    <tr>\n",
              "      <th>0</th>\n",
              "      <td>5</td>\n",
              "      <td>I bought this mouse for my home computer and i...</td>\n",
              "      <td>14</td>\n",
              "      <td>4</td>\n",
              "    </tr>\n",
              "    <tr>\n",
              "      <th>1</th>\n",
              "      <td>5</td>\n",
              "      <td>Ürünü yaklaşık 3 aydır kullanıyorum. Hem ergon...</td>\n",
              "      <td>6</td>\n",
              "      <td>0</td>\n",
              "    </tr>\n",
              "    <tr>\n",
              "      <th>2</th>\n",
              "      <td>5</td>\n",
              "      <td>Teknolojiden çok anlayan biri değilim, sadece ...</td>\n",
              "      <td>1</td>\n",
              "      <td>0</td>\n",
              "    </tr>\n",
              "    <tr>\n",
              "      <th>3</th>\n",
              "      <td>5</td>\n",
              "      <td>Perfect</td>\n",
              "      <td>3</td>\n",
              "      <td>0</td>\n",
              "    </tr>\n",
              "    <tr>\n",
              "      <th>4</th>\n",
              "      <td>5</td>\n",
              "      <td>Ürünün yapısı oldukça ergonomik, işte kullanma...</td>\n",
              "      <td>2</td>\n",
              "      <td>0</td>\n",
              "    </tr>\n",
              "    <tr>\n",
              "      <th>...</th>\n",
              "      <td>...</td>\n",
              "      <td>...</td>\n",
              "      <td>...</td>\n",
              "      <td>...</td>\n",
              "    </tr>\n",
              "    <tr>\n",
              "      <th>479237</th>\n",
              "      <td>1</td>\n",
              "      <td>Bana hiç iyi gelmedi dökülmeyi durdurmadığı gi...</td>\n",
              "      <td>4</td>\n",
              "      <td>4</td>\n",
              "    </tr>\n",
              "    <tr>\n",
              "      <th>479238</th>\n",
              "      <td>5</td>\n",
              "      <td>Ürünler bir gün içinde elimdeydi.teşekkürler..</td>\n",
              "      <td>3</td>\n",
              "      <td>6</td>\n",
              "    </tr>\n",
              "    <tr>\n",
              "      <th>479239</th>\n",
              "      <td>1</td>\n",
              "      <td>Arkadaşlar ben aldım 1 ay kullandım saç dökülm...</td>\n",
              "      <td>10</td>\n",
              "      <td>27</td>\n",
              "    </tr>\n",
              "    <tr>\n",
              "      <th>479240</th>\n",
              "      <td>3</td>\n",
              "      <td>Saç dökülmesi konusunda herhangi bir şampuanda...</td>\n",
              "      <td>10</td>\n",
              "      <td>3</td>\n",
              "    </tr>\n",
              "    <tr>\n",
              "      <th>479241</th>\n",
              "      <td>1</td>\n",
              "      <td>saç dökülmesi için aldım ama hiç faydası olmad...</td>\n",
              "      <td>7</td>\n",
              "      <td>29</td>\n",
              "    </tr>\n",
              "  </tbody>\n",
              "</table>\n",
              "<p>479242 rows × 4 columns</p>\n",
              "</div>"
            ],
            "text/plain": [
              "        yildizSayisi  ... yorumDislike\n",
              "0                  5  ...            4\n",
              "1                  5  ...            0\n",
              "2                  5  ...            0\n",
              "3                  5  ...            0\n",
              "4                  5  ...            0\n",
              "...              ...  ...          ...\n",
              "479237             1  ...            4\n",
              "479238             5  ...            6\n",
              "479239             1  ...           27\n",
              "479240             3  ...            3\n",
              "479241             1  ...           29\n",
              "\n",
              "[479242 rows x 4 columns]"
            ]
          },
          "metadata": {},
          "execution_count": 207
        }
      ]
    },
    {
      "cell_type": "code",
      "metadata": {
        "colab": {
          "base_uri": "https://localhost:8080/",
          "height": 424
        },
        "id": "Da7yJj2CGZ_9",
        "outputId": "3829de7e-5275-46a5-e0d3-291065bc00af"
      },
      "source": [
        "dataset.dropna()"
      ],
      "execution_count": null,
      "outputs": [
        {
          "output_type": "execute_result",
          "data": {
            "text/html": [
              "<div>\n",
              "<style scoped>\n",
              "    .dataframe tbody tr th:only-of-type {\n",
              "        vertical-align: middle;\n",
              "    }\n",
              "\n",
              "    .dataframe tbody tr th {\n",
              "        vertical-align: top;\n",
              "    }\n",
              "\n",
              "    .dataframe thead th {\n",
              "        text-align: right;\n",
              "    }\n",
              "</style>\n",
              "<table border=\"1\" class=\"dataframe\">\n",
              "  <thead>\n",
              "    <tr style=\"text-align: right;\">\n",
              "      <th></th>\n",
              "      <th>yildizSayisi</th>\n",
              "      <th>yorum</th>\n",
              "      <th>yorumLike</th>\n",
              "      <th>yorumDislike</th>\n",
              "    </tr>\n",
              "  </thead>\n",
              "  <tbody>\n",
              "    <tr>\n",
              "      <th>0</th>\n",
              "      <td>5</td>\n",
              "      <td>I bought this mouse for my home computer and i...</td>\n",
              "      <td>14</td>\n",
              "      <td>4</td>\n",
              "    </tr>\n",
              "    <tr>\n",
              "      <th>1</th>\n",
              "      <td>5</td>\n",
              "      <td>Ürünü yaklaşık 3 aydır kullanıyorum. Hem ergon...</td>\n",
              "      <td>6</td>\n",
              "      <td>0</td>\n",
              "    </tr>\n",
              "    <tr>\n",
              "      <th>2</th>\n",
              "      <td>5</td>\n",
              "      <td>Teknolojiden çok anlayan biri değilim, sadece ...</td>\n",
              "      <td>1</td>\n",
              "      <td>0</td>\n",
              "    </tr>\n",
              "    <tr>\n",
              "      <th>3</th>\n",
              "      <td>5</td>\n",
              "      <td>Perfect</td>\n",
              "      <td>3</td>\n",
              "      <td>0</td>\n",
              "    </tr>\n",
              "    <tr>\n",
              "      <th>4</th>\n",
              "      <td>5</td>\n",
              "      <td>Ürünün yapısı oldukça ergonomik, işte kullanma...</td>\n",
              "      <td>2</td>\n",
              "      <td>0</td>\n",
              "    </tr>\n",
              "    <tr>\n",
              "      <th>...</th>\n",
              "      <td>...</td>\n",
              "      <td>...</td>\n",
              "      <td>...</td>\n",
              "      <td>...</td>\n",
              "    </tr>\n",
              "    <tr>\n",
              "      <th>479237</th>\n",
              "      <td>1</td>\n",
              "      <td>Bana hiç iyi gelmedi dökülmeyi durdurmadığı gi...</td>\n",
              "      <td>4</td>\n",
              "      <td>4</td>\n",
              "    </tr>\n",
              "    <tr>\n",
              "      <th>479238</th>\n",
              "      <td>5</td>\n",
              "      <td>Ürünler bir gün içinde elimdeydi.teşekkürler..</td>\n",
              "      <td>3</td>\n",
              "      <td>6</td>\n",
              "    </tr>\n",
              "    <tr>\n",
              "      <th>479239</th>\n",
              "      <td>1</td>\n",
              "      <td>Arkadaşlar ben aldım 1 ay kullandım saç dökülm...</td>\n",
              "      <td>10</td>\n",
              "      <td>27</td>\n",
              "    </tr>\n",
              "    <tr>\n",
              "      <th>479240</th>\n",
              "      <td>3</td>\n",
              "      <td>Saç dökülmesi konusunda herhangi bir şampuanda...</td>\n",
              "      <td>10</td>\n",
              "      <td>3</td>\n",
              "    </tr>\n",
              "    <tr>\n",
              "      <th>479241</th>\n",
              "      <td>1</td>\n",
              "      <td>saç dökülmesi için aldım ama hiç faydası olmad...</td>\n",
              "      <td>7</td>\n",
              "      <td>29</td>\n",
              "    </tr>\n",
              "  </tbody>\n",
              "</table>\n",
              "<p>479242 rows × 4 columns</p>\n",
              "</div>"
            ],
            "text/plain": [
              "        yildizSayisi  ... yorumDislike\n",
              "0                  5  ...            4\n",
              "1                  5  ...            0\n",
              "2                  5  ...            0\n",
              "3                  5  ...            0\n",
              "4                  5  ...            0\n",
              "...              ...  ...          ...\n",
              "479237             1  ...            4\n",
              "479238             5  ...            6\n",
              "479239             1  ...           27\n",
              "479240             3  ...            3\n",
              "479241             1  ...           29\n",
              "\n",
              "[479242 rows x 4 columns]"
            ]
          },
          "metadata": {},
          "execution_count": 208
        }
      ]
    },
    {
      "cell_type": "code",
      "metadata": {
        "id": "T7fdXnfBGaO8"
      },
      "source": [
        "dataset[\"yildizSayisi\"] = dataset.yildizSayisi.astype(float)\n"
      ],
      "execution_count": null,
      "outputs": []
    },
    {
      "cell_type": "code",
      "metadata": {
        "id": "jGDS9K9LPNIs"
      },
      "source": [
        "def sentiments(df):\n",
        "  if df['yildizSayisi'] > 3.9:\n",
        "    return 'Positive'\n",
        "  elif df['yildizSayisi'] <= 3.0:\n",
        "    return 'Negative'\n",
        "dataset['sentiment'] = dataset.apply(sentiments, axis=1)"
      ],
      "execution_count": null,
      "outputs": []
    },
    {
      "cell_type": "code",
      "metadata": {
        "colab": {
          "base_uri": "https://localhost:8080/"
        },
        "id": "2qvFtXUVOmo6",
        "outputId": "85bc147f-82c1-4756-d39a-0914fa060ad0"
      },
      "source": [
        "dataset.info()"
      ],
      "execution_count": null,
      "outputs": [
        {
          "output_type": "stream",
          "name": "stdout",
          "text": [
            "<class 'pandas.core.frame.DataFrame'>\n",
            "RangeIndex: 479242 entries, 0 to 479241\n",
            "Data columns (total 5 columns):\n",
            " #   Column        Non-Null Count   Dtype  \n",
            "---  ------        --------------   -----  \n",
            " 0   yildizSayisi  479242 non-null  float64\n",
            " 1   yorum         479242 non-null  object \n",
            " 2   yorumLike     479242 non-null  int64  \n",
            " 3   yorumDislike  479242 non-null  int64  \n",
            " 4   sentiment     479242 non-null  object \n",
            "dtypes: float64(1), int64(2), object(2)\n",
            "memory usage: 18.3+ MB\n"
          ]
        }
      ]
    },
    {
      "cell_type": "code",
      "metadata": {
        "colab": {
          "base_uri": "https://localhost:8080/",
          "height": 424
        },
        "id": "A62IJZ08JxQe",
        "outputId": "e99b06eb-b9fb-44bb-9a1b-027cdebe86fb"
      },
      "source": [
        "dataset"
      ],
      "execution_count": null,
      "outputs": [
        {
          "output_type": "execute_result",
          "data": {
            "text/html": [
              "<div>\n",
              "<style scoped>\n",
              "    .dataframe tbody tr th:only-of-type {\n",
              "        vertical-align: middle;\n",
              "    }\n",
              "\n",
              "    .dataframe tbody tr th {\n",
              "        vertical-align: top;\n",
              "    }\n",
              "\n",
              "    .dataframe thead th {\n",
              "        text-align: right;\n",
              "    }\n",
              "</style>\n",
              "<table border=\"1\" class=\"dataframe\">\n",
              "  <thead>\n",
              "    <tr style=\"text-align: right;\">\n",
              "      <th></th>\n",
              "      <th>yildizSayisi</th>\n",
              "      <th>yorum</th>\n",
              "      <th>yorumLike</th>\n",
              "      <th>yorumDislike</th>\n",
              "      <th>sentiment</th>\n",
              "    </tr>\n",
              "  </thead>\n",
              "  <tbody>\n",
              "    <tr>\n",
              "      <th>0</th>\n",
              "      <td>5.0</td>\n",
              "      <td>I bought this mouse for my home computer and i...</td>\n",
              "      <td>14</td>\n",
              "      <td>4</td>\n",
              "      <td>Positive</td>\n",
              "    </tr>\n",
              "    <tr>\n",
              "      <th>1</th>\n",
              "      <td>5.0</td>\n",
              "      <td>Ürünü yaklaşık 3 aydır kullanıyorum. Hem ergon...</td>\n",
              "      <td>6</td>\n",
              "      <td>0</td>\n",
              "      <td>Positive</td>\n",
              "    </tr>\n",
              "    <tr>\n",
              "      <th>2</th>\n",
              "      <td>5.0</td>\n",
              "      <td>Teknolojiden çok anlayan biri değilim, sadece ...</td>\n",
              "      <td>1</td>\n",
              "      <td>0</td>\n",
              "      <td>Positive</td>\n",
              "    </tr>\n",
              "    <tr>\n",
              "      <th>3</th>\n",
              "      <td>5.0</td>\n",
              "      <td>Perfect</td>\n",
              "      <td>3</td>\n",
              "      <td>0</td>\n",
              "      <td>Positive</td>\n",
              "    </tr>\n",
              "    <tr>\n",
              "      <th>4</th>\n",
              "      <td>5.0</td>\n",
              "      <td>Ürünün yapısı oldukça ergonomik, işte kullanma...</td>\n",
              "      <td>2</td>\n",
              "      <td>0</td>\n",
              "      <td>Positive</td>\n",
              "    </tr>\n",
              "    <tr>\n",
              "      <th>...</th>\n",
              "      <td>...</td>\n",
              "      <td>...</td>\n",
              "      <td>...</td>\n",
              "      <td>...</td>\n",
              "      <td>...</td>\n",
              "    </tr>\n",
              "    <tr>\n",
              "      <th>479237</th>\n",
              "      <td>1.0</td>\n",
              "      <td>Bana hiç iyi gelmedi dökülmeyi durdurmadığı gi...</td>\n",
              "      <td>4</td>\n",
              "      <td>4</td>\n",
              "      <td>Negative</td>\n",
              "    </tr>\n",
              "    <tr>\n",
              "      <th>479238</th>\n",
              "      <td>5.0</td>\n",
              "      <td>Ürünler bir gün içinde elimdeydi.teşekkürler..</td>\n",
              "      <td>3</td>\n",
              "      <td>6</td>\n",
              "      <td>Positive</td>\n",
              "    </tr>\n",
              "    <tr>\n",
              "      <th>479239</th>\n",
              "      <td>1.0</td>\n",
              "      <td>Arkadaşlar ben aldım 1 ay kullandım saç dökülm...</td>\n",
              "      <td>10</td>\n",
              "      <td>27</td>\n",
              "      <td>Negative</td>\n",
              "    </tr>\n",
              "    <tr>\n",
              "      <th>479240</th>\n",
              "      <td>3.0</td>\n",
              "      <td>Saç dökülmesi konusunda herhangi bir şampuanda...</td>\n",
              "      <td>10</td>\n",
              "      <td>3</td>\n",
              "      <td>Negative</td>\n",
              "    </tr>\n",
              "    <tr>\n",
              "      <th>479241</th>\n",
              "      <td>1.0</td>\n",
              "      <td>saç dökülmesi için aldım ama hiç faydası olmad...</td>\n",
              "      <td>7</td>\n",
              "      <td>29</td>\n",
              "      <td>Negative</td>\n",
              "    </tr>\n",
              "  </tbody>\n",
              "</table>\n",
              "<p>479242 rows × 5 columns</p>\n",
              "</div>"
            ],
            "text/plain": [
              "        yildizSayisi  ... sentiment\n",
              "0                5.0  ...  Positive\n",
              "1                5.0  ...  Positive\n",
              "2                5.0  ...  Positive\n",
              "3                5.0  ...  Positive\n",
              "4                5.0  ...  Positive\n",
              "...              ...  ...       ...\n",
              "479237           1.0  ...  Negative\n",
              "479238           5.0  ...  Positive\n",
              "479239           1.0  ...  Negative\n",
              "479240           3.0  ...  Negative\n",
              "479241           1.0  ...  Negative\n",
              "\n",
              "[479242 rows x 5 columns]"
            ]
          },
          "metadata": {},
          "execution_count": 212
        }
      ]
    },
    {
      "cell_type": "code",
      "metadata": {
        "id": "-bwXEYq2W0oX"
      },
      "source": [
        "dataset['yorum'] = dataset['yorum'].apply(lambda x: x.lower())\n",
        "dataset['yorum'] = dataset['yorum'].apply((lambda x: re.sub('[^a-zA-z0-9\\s]','',x)))"
      ],
      "execution_count": null,
      "outputs": []
    },
    {
      "cell_type": "code",
      "metadata": {
        "colab": {
          "base_uri": "https://localhost:8080/"
        },
        "id": "5QBlQGv6W7Ki",
        "outputId": "186e751c-8711-4e0a-c654-631de69c9a89"
      },
      "source": [
        "print(dataset[ dataset['sentiment'] == 'Positive'].size)\n",
        "print(dataset[ dataset['sentiment'] == 'Negative'].size)"
      ],
      "execution_count": null,
      "outputs": [
        {
          "output_type": "stream",
          "name": "stdout",
          "text": [
            "2171905\n",
            "224305\n"
          ]
        }
      ]
    },
    {
      "cell_type": "code",
      "metadata": {
        "id": "86y_6mRKWTwu"
      },
      "source": [
        "data_pos = dataset[ dataset['sentiment'] == 'Positive']\n",
        "data_pos = dataset['yorum']\n",
        "data_neg = dataset[ dataset['sentiment'] == 'Negative']\n",
        "data_neg = dataset['yorum']"
      ],
      "execution_count": null,
      "outputs": []
    },
    {
      "cell_type": "code",
      "metadata": {
        "id": "_SZGNlG4T-8W"
      },
      "source": [
        "def wordcloud_draw(dataset, color = 'black'):\n",
        "    words = ' '.join(dataset)\n",
        "    cleaned_word = \" \".join([word for word in words.split()\n",
        "                            if 'http' not in word\n",
        "                                and not word.startswith('@')\n",
        "                                and not word.startswith('#')\n",
        "                                and word != 'RT'\n",
        "                            ])\n",
        "    wordcloud = WordCloud(stopwords=STOPWORDS,\n",
        "                      background_color=color,\n",
        "                      width=2500,\n",
        "                      height=2000\n",
        "                     ).generate(cleaned_word)\n",
        "    plt.figure(1,figsize=(13, 13))\n",
        "    plt.imshow(wordcloud)\n",
        "    plt.axis('off')\n",
        "    plt.show()"
      ],
      "execution_count": null,
      "outputs": []
    },
    {
      "cell_type": "code",
      "metadata": {
        "colab": {
          "base_uri": "https://localhost:8080/"
        },
        "id": "e7QnvEw0JQNz",
        "outputId": "1790a546-e320-4ff1-f4d2-721647eda27f"
      },
      "source": [
        "print(\"Positive words\")\n",
        "wordcloud_draw(data_pos,'white')"
      ],
      "execution_count": null,
      "outputs": [
        {
          "output_type": "stream",
          "name": "stdout",
          "text": [
            "Positive words\n"
          ]
        }
      ]
    },
    {
      "cell_type": "code",
      "metadata": {
        "colab": {
          "base_uri": "https://localhost:8080/"
        },
        "id": "EY6IZNegJStU",
        "outputId": "6bf85d49-920f-4fd8-e08c-ba1228b88da9"
      },
      "source": [
        "print(\"Negative words\")\n",
        "wordcloud_draw(data_neg)"
      ],
      "execution_count": null,
      "outputs": [
        {
          "output_type": "stream",
          "name": "stdout",
          "text": [
            "Negative words\n"
          ]
        }
      ]
    },
    {
      "cell_type": "code",
      "metadata": {
        "colab": {
          "base_uri": "https://localhost:8080/",
          "height": 424
        },
        "id": "QOrCqxbjLHGi",
        "outputId": "a53d8ee1-5735-41d2-90f5-0ea817063fc9"
      },
      "source": [
        "dataset"
      ],
      "execution_count": null,
      "outputs": [
        {
          "output_type": "execute_result",
          "data": {
            "text/html": [
              "<div>\n",
              "<style scoped>\n",
              "    .dataframe tbody tr th:only-of-type {\n",
              "        vertical-align: middle;\n",
              "    }\n",
              "\n",
              "    .dataframe tbody tr th {\n",
              "        vertical-align: top;\n",
              "    }\n",
              "\n",
              "    .dataframe thead th {\n",
              "        text-align: right;\n",
              "    }\n",
              "</style>\n",
              "<table border=\"1\" class=\"dataframe\">\n",
              "  <thead>\n",
              "    <tr style=\"text-align: right;\">\n",
              "      <th></th>\n",
              "      <th>yildizSayisi</th>\n",
              "      <th>yorum</th>\n",
              "      <th>yorumLike</th>\n",
              "      <th>yorumDislike</th>\n",
              "      <th>sentiment</th>\n",
              "    </tr>\n",
              "  </thead>\n",
              "  <tbody>\n",
              "    <tr>\n",
              "      <th>0</th>\n",
              "      <td>5.0</td>\n",
              "      <td>i bought this mouse for my home computer and i...</td>\n",
              "      <td>14</td>\n",
              "      <td>4</td>\n",
              "      <td>Positive</td>\n",
              "    </tr>\n",
              "    <tr>\n",
              "      <th>1</th>\n",
              "      <td>5.0</td>\n",
              "      <td>rn yaklak 3 aydr kullanyorum hem ergonomik tas...</td>\n",
              "      <td>6</td>\n",
              "      <td>0</td>\n",
              "      <td>Positive</td>\n",
              "    </tr>\n",
              "    <tr>\n",
              "      <th>2</th>\n",
              "      <td>5.0</td>\n",
              "      <td>teknolojiden ok anlayan biri deilim sadece kii...</td>\n",
              "      <td>1</td>\n",
              "      <td>0</td>\n",
              "      <td>Positive</td>\n",
              "    </tr>\n",
              "    <tr>\n",
              "      <th>3</th>\n",
              "      <td>5.0</td>\n",
              "      <td>perfect</td>\n",
              "      <td>3</td>\n",
              "      <td>0</td>\n",
              "      <td>Positive</td>\n",
              "    </tr>\n",
              "    <tr>\n",
              "      <th>4</th>\n",
              "      <td>5.0</td>\n",
              "      <td>rnn yaps olduka ergonomik ite kullanmak iin al...</td>\n",
              "      <td>2</td>\n",
              "      <td>0</td>\n",
              "      <td>Positive</td>\n",
              "    </tr>\n",
              "    <tr>\n",
              "      <th>...</th>\n",
              "      <td>...</td>\n",
              "      <td>...</td>\n",
              "      <td>...</td>\n",
              "      <td>...</td>\n",
              "      <td>...</td>\n",
              "    </tr>\n",
              "    <tr>\n",
              "      <th>479237</th>\n",
              "      <td>1.0</td>\n",
              "      <td>bana hi iyi gelmedi dklmeyi durdurmad gibi sal...</td>\n",
              "      <td>4</td>\n",
              "      <td>4</td>\n",
              "      <td>Negative</td>\n",
              "    </tr>\n",
              "    <tr>\n",
              "      <th>479238</th>\n",
              "      <td>5.0</td>\n",
              "      <td>rnler bir gn iinde elimdeyditeekkrler</td>\n",
              "      <td>3</td>\n",
              "      <td>6</td>\n",
              "      <td>Positive</td>\n",
              "    </tr>\n",
              "    <tr>\n",
              "      <th>479239</th>\n",
              "      <td>1.0</td>\n",
              "      <td>arkadalar ben aldm 1 ay kullandm sa dklme kart...</td>\n",
              "      <td>10</td>\n",
              "      <td>27</td>\n",
              "      <td>Negative</td>\n",
              "    </tr>\n",
              "    <tr>\n",
              "      <th>479240</th>\n",
              "      <td>3.0</td>\n",
              "      <td>sa dklmesi konusunda herhangi bir ampuandan fa...</td>\n",
              "      <td>10</td>\n",
              "      <td>3</td>\n",
              "      <td>Negative</td>\n",
              "    </tr>\n",
              "    <tr>\n",
              "      <th>479241</th>\n",
              "      <td>1.0</td>\n",
              "      <td>sa dklmesi iin aldm ama hi faydas olmad daha f...</td>\n",
              "      <td>7</td>\n",
              "      <td>29</td>\n",
              "      <td>Negative</td>\n",
              "    </tr>\n",
              "  </tbody>\n",
              "</table>\n",
              "<p>479242 rows × 5 columns</p>\n",
              "</div>"
            ],
            "text/plain": [
              "        yildizSayisi  ... sentiment\n",
              "0                5.0  ...  Positive\n",
              "1                5.0  ...  Positive\n",
              "2                5.0  ...  Positive\n",
              "3                5.0  ...  Positive\n",
              "4                5.0  ...  Positive\n",
              "...              ...  ...       ...\n",
              "479237           1.0  ...  Negative\n",
              "479238           5.0  ...  Positive\n",
              "479239           1.0  ...  Negative\n",
              "479240           3.0  ...  Negative\n",
              "479241           1.0  ...  Negative\n",
              "\n",
              "[479242 rows x 5 columns]"
            ]
          },
          "metadata": {},
          "execution_count": 220
        }
      ]
    },
    {
      "cell_type": "code",
      "metadata": {
        "id": "pFdL4qNuLIj4"
      },
      "source": [
        "data = dataset[['yorum','sentiment']]\n",
        "target = dataset['sentiment'].values"
      ],
      "execution_count": null,
      "outputs": []
    },
    {
      "cell_type": "code",
      "metadata": {
        "colab": {
          "base_uri": "https://localhost:8080/",
          "height": 424
        },
        "id": "FN-oTVwbU0J3",
        "outputId": "a8ff310b-df53-46d4-e102-10f30b51756b"
      },
      "source": [
        "data"
      ],
      "execution_count": null,
      "outputs": [
        {
          "output_type": "execute_result",
          "data": {
            "text/html": [
              "<div>\n",
              "<style scoped>\n",
              "    .dataframe tbody tr th:only-of-type {\n",
              "        vertical-align: middle;\n",
              "    }\n",
              "\n",
              "    .dataframe tbody tr th {\n",
              "        vertical-align: top;\n",
              "    }\n",
              "\n",
              "    .dataframe thead th {\n",
              "        text-align: right;\n",
              "    }\n",
              "</style>\n",
              "<table border=\"1\" class=\"dataframe\">\n",
              "  <thead>\n",
              "    <tr style=\"text-align: right;\">\n",
              "      <th></th>\n",
              "      <th>yorum</th>\n",
              "      <th>sentiment</th>\n",
              "    </tr>\n",
              "  </thead>\n",
              "  <tbody>\n",
              "    <tr>\n",
              "      <th>0</th>\n",
              "      <td>i bought this mouse for my home computer and i...</td>\n",
              "      <td>Positive</td>\n",
              "    </tr>\n",
              "    <tr>\n",
              "      <th>1</th>\n",
              "      <td>rn yaklak 3 aydr kullanyorum hem ergonomik tas...</td>\n",
              "      <td>Positive</td>\n",
              "    </tr>\n",
              "    <tr>\n",
              "      <th>2</th>\n",
              "      <td>teknolojiden ok anlayan biri deilim sadece kii...</td>\n",
              "      <td>Positive</td>\n",
              "    </tr>\n",
              "    <tr>\n",
              "      <th>3</th>\n",
              "      <td>perfect</td>\n",
              "      <td>Positive</td>\n",
              "    </tr>\n",
              "    <tr>\n",
              "      <th>4</th>\n",
              "      <td>rnn yaps olduka ergonomik ite kullanmak iin al...</td>\n",
              "      <td>Positive</td>\n",
              "    </tr>\n",
              "    <tr>\n",
              "      <th>...</th>\n",
              "      <td>...</td>\n",
              "      <td>...</td>\n",
              "    </tr>\n",
              "    <tr>\n",
              "      <th>479237</th>\n",
              "      <td>bana hi iyi gelmedi dklmeyi durdurmad gibi sal...</td>\n",
              "      <td>Negative</td>\n",
              "    </tr>\n",
              "    <tr>\n",
              "      <th>479238</th>\n",
              "      <td>rnler bir gn iinde elimdeyditeekkrler</td>\n",
              "      <td>Positive</td>\n",
              "    </tr>\n",
              "    <tr>\n",
              "      <th>479239</th>\n",
              "      <td>arkadalar ben aldm 1 ay kullandm sa dklme kart...</td>\n",
              "      <td>Negative</td>\n",
              "    </tr>\n",
              "    <tr>\n",
              "      <th>479240</th>\n",
              "      <td>sa dklmesi konusunda herhangi bir ampuandan fa...</td>\n",
              "      <td>Negative</td>\n",
              "    </tr>\n",
              "    <tr>\n",
              "      <th>479241</th>\n",
              "      <td>sa dklmesi iin aldm ama hi faydas olmad daha f...</td>\n",
              "      <td>Negative</td>\n",
              "    </tr>\n",
              "  </tbody>\n",
              "</table>\n",
              "<p>479242 rows × 2 columns</p>\n",
              "</div>"
            ],
            "text/plain": [
              "                                                    yorum sentiment\n",
              "0       i bought this mouse for my home computer and i...  Positive\n",
              "1       rn yaklak 3 aydr kullanyorum hem ergonomik tas...  Positive\n",
              "2       teknolojiden ok anlayan biri deilim sadece kii...  Positive\n",
              "3                                                 perfect  Positive\n",
              "4       rnn yaps olduka ergonomik ite kullanmak iin al...  Positive\n",
              "...                                                   ...       ...\n",
              "479237  bana hi iyi gelmedi dklmeyi durdurmad gibi sal...  Negative\n",
              "479238              rnler bir gn iinde elimdeyditeekkrler  Positive\n",
              "479239  arkadalar ben aldm 1 ay kullandm sa dklme kart...  Negative\n",
              "479240  sa dklmesi konusunda herhangi bir ampuandan fa...  Negative\n",
              "479241  sa dklmesi iin aldm ama hi faydas olmad daha f...  Negative\n",
              "\n",
              "[479242 rows x 2 columns]"
            ]
          },
          "metadata": {},
          "execution_count": 225
        }
      ]
    },
    {
      "cell_type": "code",
      "metadata": {
        "colab": {
          "base_uri": "https://localhost:8080/"
        },
        "id": "Mz3Or54KT_GZ",
        "outputId": "0b4d13af-0501-400b-dcca-0e6c323b2238"
      },
      "source": [
        "data['yorum'] = data['yorum'].apply(lambda x: x.lower())\n",
        "data['yorum'] = data['yorum'].apply((lambda x: re.sub('[^a-zA-z0-9\\s]','',x)))\n",
        "\n",
        "print(data[ data['sentiment'] == 'Positive'].size)\n",
        "print(data[ data['sentiment'] == 'Negative'].size)\n",
        "\n",
        "for idx,row in data.iterrows():\n",
        "    row[0] = row[0].replace('rt',' ')\n",
        "    \n",
        "max_fatures = 2000\n",
        "tokenizer = Tokenizer(num_words=max_fatures, split=' ')\n",
        "tokenizer.fit_on_texts(data['yorum'].values)\n",
        "X = tokenizer.texts_to_sequences(data['yorum'].values)\n",
        "X = pad_sequences(X)"
      ],
      "execution_count": null,
      "outputs": [
        {
          "output_type": "stream",
          "name": "stderr",
          "text": [
            "/usr/local/lib/python3.7/dist-packages/ipykernel_launcher.py:1: SettingWithCopyWarning: \n",
            "A value is trying to be set on a copy of a slice from a DataFrame.\n",
            "Try using .loc[row_indexer,col_indexer] = value instead\n",
            "\n",
            "See the caveats in the documentation: https://pandas.pydata.org/pandas-docs/stable/user_guide/indexing.html#returning-a-view-versus-a-copy\n",
            "  \"\"\"Entry point for launching an IPython kernel.\n",
            "/usr/local/lib/python3.7/dist-packages/ipykernel_launcher.py:2: SettingWithCopyWarning: \n",
            "A value is trying to be set on a copy of a slice from a DataFrame.\n",
            "Try using .loc[row_indexer,col_indexer] = value instead\n",
            "\n",
            "See the caveats in the documentation: https://pandas.pydata.org/pandas-docs/stable/user_guide/indexing.html#returning-a-view-versus-a-copy\n",
            "  \n"
          ]
        },
        {
          "output_type": "stream",
          "name": "stdout",
          "text": [
            "868762\n",
            "89722\n"
          ]
        }
      ]
    },
    {
      "cell_type": "code",
      "metadata": {
        "id": "s3dzXzAgMBfq"
      },
      "source": [
        "num_words = 10000\n",
        "tokenizer = Tokenizer(num_words=num_words)"
      ],
      "execution_count": null,
      "outputs": []
    },
    {
      "cell_type": "code",
      "metadata": {
        "id": "ILcnxw0HM8iE"
      },
      "source": [
        "cutoff = int(len(data) * 0.80)\n",
        "x_train, x_test = data[:cutoff], data[cutoff:]\n",
        "y_train, y_test = target[:cutoff], target[cutoff:]"
      ],
      "execution_count": null,
      "outputs": []
    },
    {
      "cell_type": "code",
      "metadata": {
        "id": "oZOAz-noM98B"
      },
      "source": [
        "num_words = 10000\n",
        "tokenizer = Tokenizer(num_words=num_words)"
      ],
      "execution_count": null,
      "outputs": []
    },
    {
      "cell_type": "code",
      "metadata": {
        "id": "EZXr4vDnNB_o"
      },
      "source": [
        "tokenizer.fit_on_texts(data)\n",
        "x_train_tokens = tokenizer.texts_to_sequences(x_train)"
      ],
      "execution_count": null,
      "outputs": []
    },
    {
      "cell_type": "code",
      "metadata": {
        "id": "EYCPpXM1IGz0"
      },
      "source": [
        "tokenizer.fit_on_texts(data)\n",
        "x_test_tokens = tokenizer.texts_to_sequences(x_test)"
      ],
      "execution_count": null,
      "outputs": []
    },
    {
      "cell_type": "code",
      "metadata": {
        "id": "oSiXE2_qYEYo"
      },
      "source": [
        "num_tokens = [len(tokens) for tokens in x_train_tokens + x_test_tokens]\n",
        "num_tokens = np.array(num_tokens)"
      ],
      "execution_count": null,
      "outputs": []
    },
    {
      "cell_type": "code",
      "metadata": {
        "colab": {
          "base_uri": "https://localhost:8080/"
        },
        "id": "IfGJxU03YEbW",
        "outputId": "ad6c13ae-f68b-46ea-e657-1a4a97b4131a"
      },
      "source": [
        "max_tokens = np.mean(num_tokens) + 2 * np.std(num_tokens)\n",
        "max_tokens = int(max_tokens)\n",
        "max_tokens"
      ],
      "execution_count": null,
      "outputs": [
        {
          "output_type": "execute_result",
          "data": {
            "text/plain": [
              "1"
            ]
          },
          "metadata": {},
          "execution_count": 233
        }
      ]
    },
    {
      "cell_type": "code",
      "metadata": {
        "id": "6j6qqb-TYEdr"
      },
      "source": [
        "x_train_pad = pad_sequences(x_train_tokens, maxlen=max_tokens)\n",
        "\n",
        "x_test_pad = pad_sequences(x_test_tokens, maxlen=max_tokens)\n",
        "\n"
      ],
      "execution_count": null,
      "outputs": []
    },
    {
      "cell_type": "code",
      "metadata": {
        "id": "qzzSUngOYR3X"
      },
      "source": [
        "x_train_tokens = tokenizer.texts_to_sequences(x_train)"
      ],
      "execution_count": null,
      "outputs": []
    },
    {
      "cell_type": "code",
      "metadata": {
        "id": "re5LdylAYR6s"
      },
      "source": [
        "x_test_tokens = tokenizer.texts_to_sequences(x_test)"
      ],
      "execution_count": null,
      "outputs": []
    },
    {
      "cell_type": "code",
      "metadata": {
        "id": "MSo8uT7lYEf6"
      },
      "source": [
        "idx = tokenizer.word_index\n",
        "inverse_map = dict(zip(idx.values(), idx.keys()))"
      ],
      "execution_count": null,
      "outputs": []
    },
    {
      "cell_type": "code",
      "metadata": {
        "id": "FhnG_WevNCKY"
      },
      "source": [
        "def tokens_to_string(tokens):\n",
        "    words = [inverse_map[token] for token in tokens if token!=0]\n",
        "    text = ' '.join(words)\n",
        "    return text"
      ],
      "execution_count": null,
      "outputs": []
    },
    {
      "cell_type": "code",
      "metadata": {
        "id": "51Qlx8W1MxBK"
      },
      "source": [
        "from tensorflow.keras.optimizers import SGD\n",
        "from keras.models import Sequential\n",
        "from keras.layers import Embedding, Conv1D, MaxPooling1D, Bidirectional, LSTM, Dense, Dropout , LSTM, SpatialDropout1D\n",
        "from keras.metrics import Precision, Recall\n",
        "from tensorflow.keras.optimizers import  RMSprop\n",
        "from keras import datasets\n",
        "from keras.callbacks import LearningRateScheduler\n",
        "from keras.callbacks import History\n",
        "from keras import losses\n"
      ],
      "execution_count": null,
      "outputs": []
    },
    {
      "cell_type": "code",
      "metadata": {
        "id": "pbgIPw6hNa_J"
      },
      "source": [
        "max_len=280\n",
        "\n",
        "model = Sequential()\n",
        "embedding_size = 50\n",
        "\n",
        "model.add(Embedding(input_dim=num_words,\n",
        "                    output_dim=embedding_size,\n",
        "                    input_length=max_len,\n",
        "                    name='embedding_layer'))\n",
        "\n",
        "model.add(Conv1D(filters=32, kernel_size=3, padding='same', activation='relu'))\n",
        "model.add(MaxPooling1D(pool_size=2))\n",
        "model.add(LSTM(32))\n",
        "model.add(Dropout(0.5))\n",
        "model.add(Dense(2, activation='sigmoid'))"
      ],
      "execution_count": null,
      "outputs": []
    },
    {
      "cell_type": "code",
      "metadata": {
        "id": "OkqOYLaWqUlL",
        "colab": {
          "base_uri": "https://localhost:8080/",
          "height": 754
        },
        "outputId": "ca099398-dadd-4dd8-8ecb-da35f3c751da"
      },
      "source": [
        "import tensorflow as tf\n",
        "tf.keras.utils.plot_model(model, show_shapes=True)"
      ],
      "execution_count": null,
      "outputs": [
        {
          "output_type": "execute_result",
          "data": {
            "image/png": "[encoded data removed]",
            "text/plain": [
              "<IPython.core.display.Image object>"
            ]
          },
          "metadata": {},
          "execution_count": 247
        }
      ]
    },
    {
      "cell_type": "code",
      "metadata": {
        "id": "Knzb4hSvpTyz"
      },
      "source": [
        "model.compile(loss='binary_crossentropy',\n",
        "              optimizer='adam',\n",
        "              metrics=['accuracy', Precision(), Recall()])"
      ],
      "execution_count": null,
      "outputs": []
    },
    {
      "cell_type": "code",
      "metadata": {
        "id": "TxaWyDujh5qv",
        "colab": {
          "base_uri": "https://localhost:8080/"
        },
        "outputId": "6db80e2c-e053-49a3-d99f-1c80efe641bf"
      },
      "source": [
        "Y = pd.get_dummies(data['sentiment']).values\n",
        "X_train, X_test, Y_train, Y_test = train_test_split(X,Y, test_size = 0.3, random_state = 42)\n",
        "print(X_train.shape,Y_train.shape)\n",
        "print(X_test.shape,Y_test.shape)"
      ],
      "execution_count": null,
      "outputs": [
        {
          "output_type": "stream",
          "name": "stdout",
          "text": [
            "(335469, 280) (335469, 2)\n",
            "(143773, 280) (143773, 2)\n"
          ]
        }
      ]
    },
    {
      "cell_type": "code",
      "metadata": {
        "id": "qpZGgzmwym32"
      },
      "source": [
        "callback = tf.keras.callbacks.EarlyStopping(monitor='accuracy', patience=2)"
      ],
      "execution_count": null,
      "outputs": []
    },
    {
      "cell_type": "code",
      "metadata": {
        "id": "joumNzq-ym32",
        "colab": {
          "base_uri": "https://localhost:8080/"
        },
        "outputId": "23eb415d-037f-4958-9bfe-b1d636a0bbc6"
      },
      "source": [
        "history=model.fit(X_train, Y_train, epochs=20, batch_size=512,validation_split=0.1,callbacks=[callback])"
      ],
      "execution_count": 260,
      "outputs": [
        {
          "output_type": "stream",
          "name": "stdout",
          "text": [
            "Epoch 1/20\n",
            "590/590 [==============================] - 252s 427ms/step - loss: 0.1720 - accuracy: 0.9383 - precision_7: 0.9386 - recall_7: 0.9374 - val_loss: 0.1659 - val_accuracy: 0.9387 - val_precision_7: 0.9389 - val_recall_7: 0.9387\n",
            "Epoch 2/20\n",
            "590/590 [==============================] - 252s 426ms/step - loss: 0.1596 - accuracy: 0.9430 - precision_7: 0.9429 - recall_7: 0.9430 - val_loss: 0.1623 - val_accuracy: 0.9407 - val_precision_7: 0.9401 - val_recall_7: 0.9415\n",
            "Epoch 3/20\n",
            "590/590 [==============================] - 251s 426ms/step - loss: 0.1522 - accuracy: 0.9457 - precision_7: 0.9454 - recall_7: 0.9459 - val_loss: 0.1608 - val_accuracy: 0.9407 - val_precision_7: 0.9406 - val_recall_7: 0.9410\n",
            "Epoch 4/20\n",
            "590/590 [==============================] - 251s 426ms/step - loss: 0.1449 - accuracy: 0.9490 - precision_7: 0.9488 - recall_7: 0.9490 - val_loss: 0.1563 - val_accuracy: 0.9426 - val_precision_7: 0.9423 - val_recall_7: 0.9428\n",
            "Epoch 5/20\n",
            "590/590 [==============================] - 248s 420ms/step - loss: 0.1372 - accuracy: 0.9521 - precision_7: 0.9519 - recall_7: 0.9523 - val_loss: 0.1581 - val_accuracy: 0.9438 - val_precision_7: 0.9436 - val_recall_7: 0.9443\n",
            "Epoch 6/20\n",
            "590/590 [==============================] - 248s 421ms/step - loss: 0.1299 - accuracy: 0.9551 - precision_7: 0.9550 - recall_7: 0.9551 - val_loss: 0.1587 - val_accuracy: 0.9434 - val_precision_7: 0.9432 - val_recall_7: 0.9433\n",
            "Epoch 7/20\n",
            "590/590 [==============================] - 248s 420ms/step - loss: 0.1227 - accuracy: 0.9580 - precision_7: 0.9579 - recall_7: 0.9580 - val_loss: 0.1594 - val_accuracy: 0.9435 - val_precision_7: 0.9433 - val_recall_7: 0.9436\n",
            "Epoch 8/20\n",
            "590/590 [==============================] - 247s 419ms/step - loss: 0.1158 - accuracy: 0.9610 - precision_7: 0.9610 - recall_7: 0.9609 - val_loss: 0.1630 - val_accuracy: 0.9454 - val_precision_7: 0.9454 - val_recall_7: 0.9453\n",
            "Epoch 9/20\n",
            "590/590 [==============================] - 248s 421ms/step - loss: 0.1110 - accuracy: 0.9630 - precision_7: 0.9629 - recall_7: 0.9631 - val_loss: 0.1682 - val_accuracy: 0.9441 - val_precision_7: 0.9441 - val_recall_7: 0.9441\n",
            "Epoch 10/20\n",
            "590/590 [==============================] - 252s 427ms/step - loss: 0.1043 - accuracy: 0.9657 - precision_7: 0.9657 - recall_7: 0.9657 - val_loss: 0.1690 - val_accuracy: 0.9434 - val_precision_7: 0.9434 - val_recall_7: 0.9435\n",
            "Epoch 11/20\n",
            "590/590 [==============================] - 251s 426ms/step - loss: 0.0994 - accuracy: 0.9674 - precision_7: 0.9674 - recall_7: 0.9674 - val_loss: 0.1754 - val_accuracy: 0.9427 - val_precision_7: 0.9427 - val_recall_7: 0.9429\n",
            "Epoch 12/20\n",
            "590/590 [==============================] - 248s 421ms/step - loss: 0.0945 - accuracy: 0.9692 - precision_7: 0.9692 - recall_7: 0.9692 - val_loss: 0.1758 - val_accuracy: 0.9443 - val_precision_7: 0.9443 - val_recall_7: 0.9443\n",
            "Epoch 13/20\n",
            "590/590 [==============================] - 248s 420ms/step - loss: 0.0913 - accuracy: 0.9705 - precision_7: 0.9705 - recall_7: 0.9705 - val_loss: 0.1827 - val_accuracy: 0.9438 - val_precision_7: 0.9439 - val_recall_7: 0.9438\n",
            "Epoch 14/20\n",
            "590/590 [==============================] - 248s 421ms/step - loss: 0.0862 - accuracy: 0.9726 - precision_7: 0.9726 - recall_7: 0.9726 - val_loss: 0.1961 - val_accuracy: 0.9419 - val_precision_7: 0.9419 - val_recall_7: 0.9419\n",
            "Epoch 15/20\n",
            "590/590 [==============================] - 248s 420ms/step - loss: 0.0828 - accuracy: 0.9738 - precision_7: 0.9738 - recall_7: 0.9738 - val_loss: 0.2008 - val_accuracy: 0.9442 - val_precision_7: 0.9441 - val_recall_7: 0.9443\n",
            "Epoch 16/20\n",
            "590/590 [==============================] - 248s 420ms/step - loss: 0.0800 - accuracy: 0.9746 - precision_7: 0.9747 - recall_7: 0.9746 - val_loss: 0.2112 - val_accuracy: 0.9387 - val_precision_7: 0.9388 - val_recall_7: 0.9386\n",
            "Epoch 17/20\n",
            "590/590 [==============================] - 248s 420ms/step - loss: 0.0768 - accuracy: 0.9759 - precision_7: 0.9759 - recall_7: 0.9758 - val_loss: 0.2117 - val_accuracy: 0.9442 - val_precision_7: 0.9441 - val_recall_7: 0.9443\n",
            "Epoch 18/20\n",
            "590/590 [==============================] - 248s 420ms/step - loss: 0.0737 - accuracy: 0.9771 - precision_7: 0.9771 - recall_7: 0.9771 - val_loss: 0.2217 - val_accuracy: 0.9436 - val_precision_7: 0.9436 - val_recall_7: 0.9436\n",
            "Epoch 19/20\n",
            "590/590 [==============================] - 247s 419ms/step - loss: 0.0711 - accuracy: 0.9780 - precision_7: 0.9780 - recall_7: 0.9780 - val_loss: 0.2265 - val_accuracy: 0.9446 - val_precision_7: 0.9446 - val_recall_7: 0.9446\n",
            "Epoch 20/20\n",
            "590/590 [==============================] - 247s 419ms/step - loss: 0.0694 - accuracy: 0.9783 - precision_7: 0.9783 - recall_7: 0.9783 - val_loss: 0.2311 - val_accuracy: 0.9446 - val_precision_7: 0.9446 - val_recall_7: 0.9446\n"
          ]
        }
      ]
    },
    {
      "cell_type": "code",
      "metadata": {
        "id": "3BPvyR95iRuR",
        "colab": {
          "base_uri": "https://localhost:8080/"
        },
        "outputId": "8e01f401-734b-45d7-c50f-fef1f4aa2b37"
      },
      "source": [
        " score = model.evaluate(X_test, Y_test,batch_size=512)\n"
      ],
      "execution_count": null,
      "outputs": [
        {
          "output_type": "stream",
          "name": "stdout",
          "text": [
            "281/281 [==============================] - 35s 124ms/step - loss: 0.1855 - accuracy: 0.9280 - precision_7: 0.9384 - recall_7: 0.9139\n"
          ]
        }
      ]
    },
    {
      "cell_type": "code",
      "metadata": {
        "colab": {
          "base_uri": "https://localhost:8080/"
        },
        "id": "9ddtpvaXOUx6",
        "outputId": "4781cbb4-096e-4add-9e3d-ce96998f41e1"
      },
      "source": [
        "print('Test loss:', score[0]) \n",
        "print('Test accuracy:', score[1])"
      ],
      "execution_count": null,
      "outputs": [
        {
          "output_type": "stream",
          "name": "stdout",
          "text": [
            "Test loss: 0.1855493038892746\n",
            "Test accuracy: 0.9280254244804382\n"
          ]
        }
      ]
    },
    {
      "cell_type": "code",
      "metadata": {
        "id": "r15jPx9JW_Wg"
      },
      "source": [
        ""
      ],
      "execution_count": null,
      "outputs": []
    }
  ]
}